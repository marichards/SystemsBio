{
 "cells": [
  {
   "cell_type": "markdown",
   "metadata": {},
   "source": [
    "# Plotting ATP Synthase Flux in Gapfilled Solutions\n",
    "\n",
    "The following code reads in the gap filled solutions that were obtained using the growMatch algorithm avaliable in cobrapy and then find the flux through ATP synthase in each gapfilled solution. Transport reactions or reactions which simply add a transporter reaction that creates a electrochemical gradient across the cell membrane were removed. A flux variability analysis is run on each of these gap filled solutions to find the minimum and maximum flux possible across ATP Synthase. These results are then plotted on a scatter plot showing areas where there are more gap filled solutions and where there are less."
   ]
  },
  {
   "cell_type": "code",
   "execution_count": 4,
   "metadata": {
    "collapsed": false
   },
   "outputs": [
    {
     "name": "stdout",
     "output_type": "stream",
     "text": [
      "unknown metabolite 'cpd16380_c0' created\n",
      "unknown metabolite 'cpd16381_c0' created\n",
      "unknown metabolite 'cpd00914_c0' created\n",
      "unknown metabolite 'cpd00934_c0' created\n",
      "unknown metabolite 'cpd00105_c0' created\n",
      "unknown metabolite 'cpd00294_c0' created\n",
      "unknown metabolite 'cpd00157_c0' created\n",
      "unknown metabolite 'cpd15877_c0' created\n",
      "unknown metabolite 'cpd15876_c0' created\n",
      "unknown metabolite 'cpd00249_c0' created\n",
      "unknown metabolite 'cpd11712_c0' created\n",
      "unknown metabolite 'cpd12508_c0' created\n",
      "unknown metabolite 'cpd00082_c0' created\n",
      "unknown metabolite 'cpd00007_c0' created\n",
      "unknown metabolite 'cpd00173_c0' created\n",
      "unknown metabolite 'cpd00354_c0' created\n",
      "unknown metabolite 'cpd00007_c0' created\n",
      "unknown metabolite 'cpd02612_c0' created\n",
      "unknown metabolite 'cpd00048_c0' created\n",
      "unknown metabolite 'cpd00193_c0' created\n",
      "unknown metabolite 'cpd11594_c0' created\n",
      "unknown metabolite 'cpd12713_c0' created\n",
      "unknown metabolite 'cpd00190_c0' created\n",
      "unknown metabolite 'cpd00082_c0' created\n"
     ]
    }
   ],
   "source": [
    "import mpld3\n",
    "from cobra.io.sbml import create_cobra_model_from_sbml_file\n",
    "from cobra import Reaction, flux_analysis, Model\n",
    "import pickle\n",
    "import re\n",
    "import matplotlib.pyplot as plt\n",
    "import numpy as np\n",
    "import operator\n",
    "\n",
    "model = create_cobra_model_from_sbml_file('Models'+'/2016_06_23_gapped_meoh_producing.xml')\n",
    "\n",
    "rxn_list = pickle.load(open('Text Files'+'/rxn_dict.p', 'rb'))\n",
    "fva_result_dict = {}\n",
    "fva_result_dict_testing = {}\n",
    "atps_list = {}\n",
    "other_mechanism = {}\n",
    "# Wide range of ATP Synthase flux values can be positive or negative\n",
    "category_1_dict = {}\n",
    "# ATP Synthase flux can only be negative\n",
    "category_2_dict = {}\n",
    "# ATP Synthase flux can only be positive\n",
    "category_3_dict = {}\n",
    "\n",
    "for run in rxn_list.keys():\n",
    "    model_test = model.copy()\n",
    "    fva_list = [model_test.reactions.ATPS]\n",
    "    for rxn in rxn_list[run]:\n",
    "        addID = re.search('(rxn\\d{5}_reverse)|(rxn\\d{5})', rxn).group(0)\n",
    "        formula = re.search('(cpd\\d{5}.*$)|(\\d+.\\d+\\scpd\\d{5}.*$)', rxn).group(0)\n",
    "        rxn = Reaction(addID)\n",
    "        model_test.add_reaction(rxn)\n",
    "        rxn.reaction = formula\n",
    "        fva_list.append(rxn)\n",
    "\n",
    "    model_fba_test = model_test.copy()\n",
    "    model_fba_test.optimize()\n",
    "    fva_result = flux_analysis.flux_variability_analysis(model_test, fva_list)\n",
    "    fva_result_dict[run] = fva_result\n",
    "    fva_result_dict_testing[run] = fva_result, fva_list"
   ]
  },
  {
   "cell_type": "code",
   "execution_count": 50,
   "metadata": {
    "collapsed": false
   },
   "outputs": [],
   "source": [
    "atp_min = {}\n",
    "atp_max = {}\n",
    "\n",
    "for run in fva_result_dict:\n",
    "    atp_min[run] = round(fva_result_dict[run]['ATPS']['minimum'])\n",
    "    atp_max[run] = round(fva_result_dict[run]['ATPS']['maximum'])\n",
    "\n",
    "\n",
    "x = atp_max.values()\n",
    "y = atp_min.values()\n",
    "\n",
    "\n",
    "s = []\n",
    "for x in atp_max.values():\n",
    "    indices = [i for i, y in enumerate(atp_max.values()) if y == x]\n",
    "    s.append((len(indices)))\n"
   ]
  },
  {
   "cell_type": "code",
   "execution_count": 37,
   "metadata": {
    "collapsed": false
   },
   "outputs": [
    {
     "data": {
      "image/png": "[encoded data removed]",
      "text/plain": [
       "<matplotlib.figure.Figure at 0x1926e278>"
      ]
     },
     "metadata": {},
     "output_type": "display_data"
    }
   ],
   "source": [
    "# Make sure plot shows up below and there aren't warnings\n",
    "%matplotlib inline\n",
    "import warnings\n",
    "warnings.filterwarnings('ignore')\n",
    "\n",
    "fig, ax = plt.subplots()\n",
    "N = len(atp_min)\n",
    "ax.grid(which='major', axis='both')\n",
    "ax.set_title(\"ATP Synthase Scatter Plot\", size=20)\n",
    "ax.set_xlabel('ATP Synthase FVA Max Flux')\n",
    "ax.set_ylabel('ATP Synthase FVA Min Flux')\n",
    "scatter = ax.scatter(list(atp_max.values()),\n",
    "                     list(atp_min.values()),\n",
    "                     c=s,\n",
    "                     s=250,\n",
    "                     alpha=0.3,\n",
    "                     cmap=plt.cm.jet)\n",
    "cbar = fig.colorbar(scatter, ticks=[-1, 0, 1])\n",
    "cbar.ax.set_yticklabels(['10', '30', '50'])\n",
    "plt.show()"
   ]
  },
  {
   "cell_type": "markdown",
   "metadata": {},
   "source": [
    "## Determining the Top 10\n",
    "\n",
    "Now that we've got a plot, we can see a group with max/min fluxes that are equal, all of which fall within about 400-500 as far as fluxes are concerned. Given that we want to use ATP synthase as our main source of ATP, we'll use this group as our most probable solutions. Let us go in now and filter out the solutions that give these values. As the plot demonstrates, these are simply the solutions with the highest minimum ATP flux, so let's grab the top 10"
   ]
  },
  {
   "cell_type": "code",
   "execution_count": 72,
   "metadata": {
    "collapsed": false
   },
   "outputs": [
    {
     "data": {
      "text/plain": [
       "10"
      ]
     },
     "execution_count": 72,
     "metadata": {},
     "output_type": "execute_result"
    }
   ],
   "source": [
    "# Find solutions with min flux at least as high as 10th highest value\n",
    "top_10 = {}\n",
    "\n",
    "for k in atp_min.keys():\n",
    "    if atp_min[k] >= sorted(atp_min.values())[-10]:\n",
    "        top_10[k] = fva_result_dict[k] \n",
    "len(top_10)"
   ]
  },
  {
   "cell_type": "code",
   "execution_count": 75,
   "metadata": {
    "collapsed": false
   },
   "outputs": [
    {
     "name": "stdout",
     "output_type": "stream",
     "text": [
      "16 {'rxn05759_reverse': {'minimum': 520.4050637887796, 'maximum': 520.4050637887461}, 'ATPS': {'minimum': 475.5209930070873, 'maximum': 475.52099300701684}}\n",
      "65 {'rxn14048_reverse': {'minimum': 997.7436478313783, 'maximum': 997.7436478314165}, 'ATPS': {'minimum': 456.7779441437315, 'maximum': 456.7779441441137}}\n",
      "132 {'ATPS': {'minimum': 435.07288776402993, 'maximum': 435.0728877653828}, 'rxn05906': {'minimum': 482.47871408628134, 'maximum': 482.4787140867289}, 'rxn08430_reverse': {'minimum': 482.47871408628134, 'maximum': 482.4787140867289}}\n",
      "53 {'rxn13974_reverse': {'minimum': 981.9570310370148, 'maximum': 981.9570310366414}, 'ATPS': {'minimum': 449.48369641254544, 'maximum': 449.48369641149884}}\n",
      "167 {'rxn07049': {'minimum': 201.2384885944232, 'maximum': 201.23848859444547}, 'ATPS': {'minimum': 435.1746713310547, 'maximum': 435.1746713312107}}\n",
      "168 {'rxn12995': {'minimum': 401.30456444635536, 'maximum': 401.30456444635536}, 'rxn07040': {'minimum': 200.65228222317768, 'maximum': 200.65228222317768}, 'ATPS': {'minimum': 387.78351615378597, 'maximum': 387.78351607694185}}\n",
      "169 {'rxn07045': {'minimum': 201.23848859816113, 'maximum': 201.23848859795615}, 'rxn12188_reverse': {'minimum': 201.23848859811787, 'maximum': 201.2384885978391}, 'ATPS': {'minimum': 435.1746713375162, 'maximum': 435.17467133599257}}\n",
      "159 {'rxn05807': {'minimum': 482.47871408625565, 'maximum': 482.47871408668834}, 'ATPS': {'minimum': 435.0728877645156, 'maximum': 435.0728877656218}}\n",
      "157 {'rxn07034': {'minimum': 242.2848736906967, 'maximum': 242.2848736907731}, 'ATPS': {'minimum': 441.3427049113841, 'maximum': 441.342704911988}}\n",
      "149 {'rxn06093': {'minimum': 80.41311901405835, 'maximum': 80.4131190139567}, 'ATPS': {'minimum': 435.0728877638651, 'maximum': 435.07288776206883}, 'rxn09989': {'minimum': 80.41311901405835, 'maximum': 80.41311901395663}}\n"
     ]
    }
   ],
   "source": [
    "# Look at the actual dictionary by printing\n",
    "for k,v in top_10.items():\n",
    "    print(k,v)"
   ]
  },
  {
   "cell_type": "markdown",
   "metadata": {},
   "source": [
    "We've got the full dictionary here, and that's probably sufficient. We can now take this top 10 and look up the reactions themselves if we so choose"
   ]
  }
 ],
 "metadata": {
  "kernelspec": {
   "display_name": "Python [Root]",
   "language": "python",
   "name": "Python [Root]"
  },
  "language_info": {
   "codemirror_mode": {
    "name": "ipython",
    "version": 3
   },
   "file_extension": ".py",
   "mimetype": "text/x-python",
   "name": "python",
   "nbconvert_exporter": "python",
   "pygments_lexer": "ipython3",
   "version": "3.5.2"
  }
 },
 "nbformat": 4,
 "nbformat_minor": 0
}
